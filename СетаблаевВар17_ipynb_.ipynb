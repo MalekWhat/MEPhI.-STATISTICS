{
  "nbformat": 4,
  "nbformat_minor": 0,
  "metadata": {
    "colab": {
      "provenance": []
    },
    "kernelspec": {
      "name": "python3",
      "display_name": "Python 3"
    },
    "language_info": {
      "name": "python"
    }
  },
  "cells": [
    {
      "cell_type": "code",
      "source": [
        "import matplotlib.pyplot as plt\n",
        "import numpy as np\n",
        "from scipy.stats import chi2\n",
        "from math import exp, pi\n",
        "import scipy.stats as stats"
      ],
      "metadata": {
        "id": "TFARRr-PdVFX"
      },
      "execution_count": null,
      "outputs": []
    },
    {
      "cell_type": "code",
      "source": [
        "# @title\n",
        "def gauss(x):\n",
        "    return exp(-x ** 2 / 2)"
      ],
      "metadata": {
        "id": "1mqx9iLvdWmI"
      },
      "execution_count": null,
      "outputs": []
    },
    {
      "cell_type": "code",
      "source": [
        "def laplace(x):\n",
        "    if x > 0:\n",
        "        n = 100000\n",
        "        s = 0\n",
        "        for i in range(n):\n",
        "            s += gauss(i * x / n) * x / n\n",
        "        s /= (2 * pi) ** 0.5\n",
        "        return s\n",
        "    else:\n",
        "        x *= -1\n",
        "        n = 10000\n",
        "        s = 0\n",
        "        for i in range(n):\n",
        "            s += gauss(i * x / n) * x / n\n",
        "        s /= (2 * pi) ** 0.5\n",
        "        return -s"
      ],
      "metadata": {
        "id": "oOFZISV1dYlg"
      },
      "execution_count": null,
      "outputs": []
    },
    {
      "cell_type": "code",
      "source": [
        "data = [2000, 2156, 2273, 2150, 2030, 2160, 2280, 2270, 2140, 2230, 2290,\n",
        "2145, 2250, 2150, 2300, 2156, 2310, 2145, 2090, 2190, 2090, 2200,\n",
        "2770, 2185, 2000, 2170, 2265, 2270, 2220, 2040, 2130, 2180, 2270,\n",
        "2265, 2160, 2060, 2180, 2250, 2080, 2130, 2180, 2380, 2320,\n",
        "2026, 2130, 2050, 2180, 2220, 2000, 2145, 2285, 2170, 2200, 2170,\n",
        "2070, 2240, 2290, 2170, 2270, 2280, 2220, 2250, 2055, 2160, 2095,\n",
        "2220, 2395, 2200, 2245, 2190, 2315, 2256, 2110, 2260, 2400, 2160,\n",
        "2330, 2220, 2210, 2340, 2150, 2350, 2170, 2220, 2360, 2160, 2200,\n",
        "2255, 2200, 2180, 2320, 2170, 2260, 2130, 2210, 2200, 2260, 2220,\n",
        "2230, 2110, 2170, 2270, 2160, 2120, 2170, 2220, 2270, 2280, 2180,\n",
        "2140, 2115, 2170, 2235, 2210, 2110, 2170, 2240, 2150, 2160, 2170,\n",
        "2221, 2170, 2160, 2170, 2210, 2260, 2170, 2180, 2160, 2150, 2130,\n",
        "2170, 2160, 2165, 2160, 2150, 2140, 2120, 2130, 2170]"
      ],
      "metadata": {
        "id": "WeLXYQfVizKB"
      },
      "execution_count": null,
      "outputs": []
    },
    {
      "cell_type": "code",
      "source": [
        "len(data)"
      ],
      "metadata": {
        "colab": {
          "base_uri": "https://localhost:8080/"
        },
        "id": "PdcFOG5BimL4",
        "outputId": "946d4c02-d0b0-4eba-81ce-cd659a53f7c5"
      },
      "execution_count": null,
      "outputs": [
        {
          "output_type": "execute_result",
          "data": {
            "text/plain": [
              "140"
            ]
          },
          "metadata": {},
          "execution_count": 46
        }
      ]
    },
    {
      "cell_type": "code",
      "source": [
        "for i in range(len(data)):\n",
        "    data[i] /= 100"
      ],
      "metadata": {
        "id": "mHm5Ec2bdt7w"
      },
      "execution_count": null,
      "outputs": []
    },
    {
      "cell_type": "code",
      "source": [],
      "metadata": {
        "id": "H8BxicUxLN2a"
      },
      "execution_count": null,
      "outputs": []
    },
    {
      "cell_type": "code",
      "source": [],
      "metadata": {
        "id": "5LuhMUkBLOMM"
      },
      "execution_count": null,
      "outputs": []
    },
    {
      "cell_type": "markdown",
      "source": [
        "1) Группируем выборку на 8 интервалов (ну или сколько захотим)\n",
        "\n"
      ],
      "metadata": {
        "id": "m3XIhncCthyk"
      }
    },
    {
      "cell_type": "code",
      "source": [
        "num = 8  # кол-во интервалов\n",
        "h = (max(data) - min(data)) / num  # ширина интервала\n",
        "x_grid = [min(data) + (i-1) * h for i in range(num + 3)]  # сетка по х\n",
        "intervals = [0] * num"
      ],
      "metadata": {
        "id": "ouRpx-W9dzdX"
      },
      "execution_count": null,
      "outputs": []
    },
    {
      "cell_type": "code",
      "source": [
        "# создание данных для гистограммы\n",
        "for i in data:\n",
        "    if int((i - min(data)) / h) == num:\n",
        "        intervals[num - 1] += 1\n",
        "    else:\n",
        "        intervals[int((i - min(data)) / h)] += 1"
      ],
      "metadata": {
        "id": "8PMQHlJ9d1JW"
      },
      "execution_count": null,
      "outputs": []
    },
    {
      "cell_type": "code",
      "source": [
        "intervals"
      ],
      "metadata": {
        "colab": {
          "base_uri": "https://localhost:8080/"
        },
        "id": "iEpqigM-_mUo",
        "outputId": "3e050987-97d1-49f9-8b4f-10c44fef98d3"
      },
      "execution_count": null,
      "outputs": [
        {
          "output_type": "execute_result",
          "data": {
            "text/plain": [
              "[14, 64, 47, 12, 2, 0, 0, 1]"
            ]
          },
          "metadata": {},
          "execution_count": 50
        }
      ]
    },
    {
      "cell_type": "markdown",
      "source": [
        "2) Построим полигон частот и гистограмму:"
      ],
      "metadata": {
        "id": "sBieaW33tub6"
      }
    },
    {
      "cell_type": "code",
      "source": [
        "# полигон частот\n",
        "freqs = [intervals[i] / len(data) for i in range(num)]\n",
        "freqs.insert(0, 0)\n",
        "freqs.append(0)\n",
        "\n",
        "X_grid = []\n",
        "for i in range (len(x_grid) - 1):\n",
        "    X_grid.append (x_grid[i] + h/2)\n",
        "plt.plot(X_grid, freqs)\n",
        "\n",
        "plt.grid()\n",
        "plt.show()"
      ],
      "metadata": {
        "colab": {
          "base_uri": "https://localhost:8080/",
          "height": 430
        },
        "id": "b1-G88Ljd_JH",
        "outputId": "2c983d6c-9618-4ed6-dd3b-584f2c58b83a"
      },
      "execution_count": null,
      "outputs": [
        {
          "output_type": "display_data",
          "data": {
            "text/plain": [
              "<Figure size 640x480 with 1 Axes>"
            ],
            "image/png": "[encoded data removed]"
          },
          "metadata": {}
        }
      ]
    },
    {
      "cell_type": "code",
      "source": [
        "plt.bar(X_grid, freqs)  # Метод bar() строит гистограмму\n",
        "plt.xlabel(\"Значения\")  # Название оси X\n",
        "plt.ylabel(\"Частота\")  # Название оси Y\n",
        "plt.title(\"Гистограмма\")  # Заголовок диаграммы\n",
        "plt.grid()\n",
        "plt.show()  # Отображение гистограммы"
      ],
      "metadata": {
        "colab": {
          "base_uri": "https://localhost:8080/",
          "height": 472
        },
        "id": "ejeX-YU3hZC4",
        "outputId": "d6cc6aa5-7b11-4966-f257-2522688bf22b"
      },
      "execution_count": null,
      "outputs": [
        {
          "output_type": "display_data",
          "data": {
            "text/plain": [
              "<Figure size 640x480 with 1 Axes>"
            ],
            "image/png": "[encoded data removed]"
          },
          "metadata": {}
        }
      ]
    },
    {
      "cell_type": "code",
      "source": [
        "plt.bar(X_grid, freqs, color = 'limegreen')  # Метод bar() строит гистограмму\n",
        "plt.xlabel(\"Значения\")  # Название оси X\n",
        "plt.ylabel(\"Частота\")  # Название оси Y\n",
        "plt.title(\"Полигон выборки\")  # Заголовок диаграммы\n",
        "# гистограмма\n",
        "# plt.hist(data, bins=num)\n",
        "\n",
        "# полигон частот\n",
        "plt.plot(X_grid, freqs, color = 'orange')\n",
        "plt.grid()\n",
        "plt.show()  # Отображение гистограммы"
      ],
      "metadata": {
        "colab": {
          "base_uri": "https://localhost:8080/",
          "height": 472
        },
        "id": "iJgcIGTjh45f",
        "outputId": "f173aa30-7d3a-4458-f822-ff09a1e464b8"
      },
      "execution_count": null,
      "outputs": [
        {
          "output_type": "display_data",
          "data": {
            "text/plain": [
              "<Figure size 640x480 with 1 Axes>"
            ],
            "image/png": "[encoded data removed]"
          },
          "metadata": {}
        }
      ]
    },
    {
      "cell_type": "markdown",
      "source": [
        "3) Найдем несмещенные оценки мат.ожидания и дисперсии"
      ],
      "metadata": {
        "id": "JSMPu8Q1tzxS"
      }
    },
    {
      "cell_type": "code",
      "source": [
        "Mx = sum(data)/len(data)\n",
        "D0 = 0\n",
        "for i in range(len(data)):\n",
        "    D0+= (data[i] - Mx)**2\n",
        "D0 = D0/(len(data)-1)\n",
        "print(\"Несмещенная оценка мат.ожидания:\", Mx, \"\\nНесмещенная оценка дисперсии:\", D0)"
      ],
      "metadata": {
        "colab": {
          "base_uri": "https://localhost:8080/"
        },
        "id": "WDJNkIuNt7G7",
        "outputId": "1def64c1-1d9b-4ef9-9264-84571e84de57"
      },
      "execution_count": null,
      "outputs": [
        {
          "output_type": "stream",
          "name": "stdout",
          "text": [
            "Несмещенная оценка мат.ожидания: 21.960571428571413 \n",
            "Несмещенная оценка дисперсии: 0.8571061459403903\n"
          ]
        }
      ]
    },
    {
      "cell_type": "code",
      "source": [
        "print()\n",
        "# квантили для хи квадрат\n",
        "print(chi2.ppf(0.05, 99))\n",
        "print(chi2.ppf(0.95, 99))\n",
        "new_x_grid = [(x_grid[i] - M) / S0 ** 0.5 for i in range(num + 1)]  # сетка для функции лапласа\n",
        "# вероятности оказаться в интервале с помощью функции лапласа\n",
        "p = [laplace(new_x_grid[i + 1]) - laplace(new_x_grid[i]) for i in range(num)]"
      ],
      "metadata": {
        "colab": {
          "base_uri": "https://localhost:8080/",
          "height": 53
        },
        "id": "tUXqpWSieCtX",
        "outputId": "fd896501-78bf-4560-aee5-aa8182c2b531"
      },
      "execution_count": null,
      "outputs": [
        {
          "output_type": "execute_result",
          "data": {
            "text/plain": [
              "'print()\\n# квантили для хи квадрат\\nprint(chi2.ppf(0.05, 99))\\nprint(chi2.ppf(0.95, 99))\\nnew_x_grid = [(x_grid[i] - M) / S0 ** 0.5 for i in range(num + 1)]  # сетка для функции лапласа\\n# вероятности оказаться в интервале с помощью функции лапласа\\np = [laplace(new_x_grid[i + 1]) - laplace(new_x_grid[i]) for i in range(num)]'"
            ],
            "application/vnd.google.colaboratory.intrinsic+json": {
              "type": "string"
            }
          },
          "metadata": {},
          "execution_count": 55
        }
      ]
    },
    {
      "cell_type": "code",
      "execution_count": null,
      "metadata": {
        "colab": {
          "base_uri": "https://localhost:8080/",
          "height": 53
        },
        "id": "xDPaAaxodTxs",
        "outputId": "c8c24fa0-f545-49c5-d854-f6a460035e1a"
      },
      "outputs": [
        {
          "output_type": "execute_result",
          "data": {
            "text/plain": [
              "'# находим значение функции rho от выборки\\nro = 0\\nfor i in range(num):\\n    ro += (intervals[i] - len(data) * p[i]) ** 2 / len(data) / p[i]\\nprint(ro)\\n# далее можно сравнить rho с квантилью распределения хи квадрат и сделать вывод о том, какая гипотеза верна'"
            ],
            "application/vnd.google.colaboratory.intrinsic+json": {
              "type": "string"
            }
          },
          "metadata": {},
          "execution_count": 56
        }
      ],
      "source": [
        "# находим значение функции rho от выборки\n",
        "ro = 0\n",
        "for i in range(num):\n",
        "    ro += (intervals[i] - len(data) * p[i]) ** 2 / len(data) / p[i]\n",
        "print(ro)\n",
        "# далее можно сравнить rho с квантилью распределения хи квадрат и сделать вывод о том, какая гипотеза верна'''"
      ]
    },
    {
      "cell_type": "markdown",
      "source": [
        "4) Строим точечные оценки параметров распределения методом моментов"
      ],
      "metadata": {
        "id": "bkFQCDn0uGXK"
      }
    },
    {
      "cell_type": "markdown",
      "source": [
        "Известно, что для случайной величины $X$ ~ $N(a,b)$:\n",
        "<br><br>$MX = (a+b)/2$ <br><br>\n",
        "$DX = (b-a)^2/12$<br><br>"
      ],
      "metadata": {
        "id": "iescl49CsJCw"
      }
    },
    {
      "cell_type": "code",
      "source": [
        "x_otl = []\n",
        "n_otl = []\n",
        "for i in data:\n",
        "    if i not in x_otl:\n",
        "        x_otl.append(i)\n",
        "x_otl = sorted(x_otl)\n",
        "for i in sorted(x_otl):\n",
        "    s = 0\n",
        "    for j in data:\n",
        "        if i == j:\n",
        "            s+=1\n",
        "    n_otl.append(s)\n",
        "    s = 0"
      ],
      "metadata": {
        "id": "TV4QzIEusIsh"
      },
      "execution_count": null,
      "outputs": []
    },
    {
      "cell_type": "code",
      "source": [
        "print(x_otl)\n",
        "print(n_otl)\n",
        "print(sum(n_otl))"
      ],
      "metadata": {
        "colab": {
          "base_uri": "https://localhost:8080/"
        },
        "id": "RJshjKG_HPMD",
        "outputId": "04a1c658-7f19-40a2-df82-793fb3346b67"
      },
      "execution_count": null,
      "outputs": [
        {
          "output_type": "stream",
          "name": "stdout",
          "text": [
            "[20.0, 20.26, 20.3, 20.4, 20.5, 20.55, 20.6, 20.7, 20.8, 20.9, 20.95, 21.1, 21.15, 21.2, 21.3, 21.4, 21.45, 21.5, 21.56, 21.6, 21.65, 21.7, 21.8, 21.85, 21.9, 22.0, 22.1, 22.2, 22.21, 22.3, 22.35, 22.4, 22.45, 22.5, 22.55, 22.56, 22.6, 22.65, 22.7, 22.73, 22.8, 22.85, 22.9, 23.0, 23.1, 23.15, 23.2, 23.3, 23.4, 23.5, 23.6, 23.8, 23.95, 24.0, 27.7]\n",
            "[3, 1, 1, 1, 1, 1, 1, 1, 1, 2, 1, 3, 1, 2, 6, 3, 3, 6, 2, 11, 1, 16, 7, 1, 2, 6, 4, 8, 1, 2, 1, 2, 1, 3, 1, 1, 4, 2, 6, 1, 3, 1, 2, 1, 1, 1, 2, 1, 1, 1, 1, 1, 1, 1, 1]\n",
            "140\n"
          ]
        }
      ]
    },
    {
      "cell_type": "code",
      "source": [
        "XNi = 0\n",
        "X2Ni = 0\n",
        "for i in range(len(x_otl)):\n",
        "    XNi+= (x_otl[i]*n_otl[i])\n",
        "    X2Ni+= ((x_otl[i]**2)*n_otl[i])\n",
        "Mx1 = XNi/sum(n_otl)\n",
        "Dx1 = X2Ni/sum(n_otl) - (Mx1**2)\n",
        "#print(XNi, X2Ni, Mx1, Dx1)"
      ],
      "metadata": {
        "id": "TgZa2gNWobyD"
      },
      "execution_count": null,
      "outputs": []
    },
    {
      "cell_type": "markdown",
      "source": [
        "Решая систему, получаем для параметров следующие выражения: <br>\n",
        "$a1=Mx_1-sqrt(3*Dx_1)$ <br>\n",
        "$b1=Mx_1+sqrt(3*Dx_1)$"
      ],
      "metadata": {
        "id": "l0zM3TlesZBq"
      }
    },
    {
      "cell_type": "code",
      "source": [
        "a1=Mx1-np.sqrt(3*Dx1)\n",
        "b1=Mx1+np.sqrt(3*Dx1)\n",
        "print(\"Точечная оценка параметра а методом моментов:\",a1,\"\\nТочечная оценка параметра σ2 методом моментов:\",b1)"
      ],
      "metadata": {
        "colab": {
          "base_uri": "https://localhost:8080/"
        },
        "id": "8Ls_4Nb5sbdk",
        "outputId": "51088e42-d5f3-4c9c-9ee6-d6f8d499f164"
      },
      "execution_count": null,
      "outputs": [
        {
          "output_type": "stream",
          "name": "stdout",
          "text": [
            "Точечная оценка параметра а методом моментов: 20.362775484919563 \n",
            "Точечная оценка параметра σ2 методом моментов: 23.558367372223298\n"
          ]
        }
      ]
    },
    {
      "cell_type": "markdown",
      "source": [
        "5) Строим точечные оценки методом максимального правдоподобия"
      ],
      "metadata": {
        "id": "CVt_dw9puTTj"
      }
    },
    {
      "cell_type": "markdown",
      "source": [
        "Для начала составим функцию правдоподобия:\n",
        "$L(a,σ) = 1/(σ*sqrt(2π))^n*exp(-∑ (ξ_i - a)^2/(2σ^2))$ <br>\n",
        "Тогда <br>\n",
        "$ln L(a,σ) = -n*ln(σ) - n*ln(sqrt(2π) - ∑ (ξ_i - a)^2/(2σ^2))$\n",
        "<br>\n",
        "Из условий экстремума (частная производная lnL по а = 0 и частная производная lnL по σ = 0), получим: <br>\n",
        "$a = 1/n * ∑ ξ_i$ <br>\n",
        "$σ^2 = 1/n *  ∑ (ξ_i - a)^2$"
      ],
      "metadata": {
        "id": "AGyl82-WuVwq"
      }
    },
    {
      "cell_type": "code",
      "source": [
        "a2 = sum(data)/len(data)\n",
        "x_a = []\n",
        "for i in range (len(data)):\n",
        "  x_a.append((data[i] - a2)**2)\n",
        "b2 = sum(x_a)/len(x_a)\n",
        "print(\"Точечная оценка параметра а методом максимального правдоподобия:\",a2,\n",
        "      \"\\nТочечная оценка параметра σ2 методом максимального правдоподобия:\",b2)"
      ],
      "metadata": {
        "colab": {
          "base_uri": "https://localhost:8080/"
        },
        "id": "HH28V6DnuXul",
        "outputId": "af644b9b-f698-4e1b-c623-0aad908350b0"
      },
      "execution_count": null,
      "outputs": [
        {
          "output_type": "stream",
          "name": "stdout",
          "text": [
            "Точечная оценка параметра а методом максимального правдоподобия: 21.960571428571413 \n",
            "Точечная оценка параметра σ2 методом максимального правдоподобия: 0.8509839591836732\n"
          ]
        }
      ]
    },
    {
      "cell_type": "markdown",
      "source": [
        "6) Ищем доверительные интервалы для мат.ожидания и дисперсии случайной величины с надежностью 0.9"
      ],
      "metadata": {
        "id": "vEBix1cvsnI8"
      }
    },
    {
      "cell_type": "markdown",
      "source": [
        "Всего измерений n = 101 <br>\n",
        "Надежность: 0.9 <br>\n",
        "Значение коэффициента Стьюдента $t_{101,0.9} = 1.66023432606575$ <br>\n",
        "Мат.ожидание: <br>\n",
        "$a - t*σ/sqrt(n) < ~a~ <a + t*σ/sqrt(n) $"
      ],
      "metadata": {
        "id": "nnC8Ff2OspDS"
      }
    },
    {
      "cell_type": "code",
      "source": [
        "t = 1.66023432606575\n",
        "a_left = Mx - t * np.sqrt(D0/len(data))\n",
        "a_right = Mx + t * np.sqrt(D0/len(data))\n",
        "print(\"(\", a_left, \",\",a_right, \")\")"
      ],
      "metadata": {
        "colab": {
          "base_uri": "https://localhost:8080/"
        },
        "id": "nj_AfW8vsmwT",
        "outputId": "f6e962b9-6227-4867-9719-49779d968939"
      },
      "execution_count": null,
      "outputs": [
        {
          "output_type": "stream",
          "name": "stdout",
          "text": [
            "( 21.830667383234402 , 22.090475473908423 )\n"
          ]
        }
      ]
    },
    {
      "cell_type": "markdown",
      "source": [
        "Дисперсия<br>\n",
        "Найдём величину $χ^2$ для значений α = 0.05 и α = 0.95"
      ],
      "metadata": {
        "id": "iP9kIVVVs_cy"
      }
    },
    {
      "cell_type": "code",
      "source": [
        "chi1 = stats.distributions.chi2.ppf(0.05, len(data))\n",
        "chi2 = stats.distributions.chi2.ppf(0.95, len(data))"
      ],
      "metadata": {
        "id": "QKzGHT25tABZ"
      },
      "execution_count": null,
      "outputs": []
    },
    {
      "cell_type": "markdown",
      "source": [
        "Доверительный интервал для дисперсии: <br>\n",
        "$n*σ_в^2/χ_{α2,n} <~σ~<n*σ_в^2/χ_{α1,n}$"
      ],
      "metadata": {
        "id": "6rlSAaDytODr"
      }
    },
    {
      "cell_type": "code",
      "source": [
        "sig_left = len(data)*b2/chi2\n",
        "sig_right = len(data)*b2/chi1\n",
        "print(\"(\", sig_left, \",\",sig_right, \")\")"
      ],
      "metadata": {
        "colab": {
          "base_uri": "https://localhost:8080/"
        },
        "id": "Ax0Uw4Z3tKVY",
        "outputId": "15c295bc-5dcd-4d27-85f2-525c6327c1e5"
      },
      "execution_count": null,
      "outputs": [
        {
          "output_type": "stream",
          "name": "stdout",
          "text": [
            "( 0.7065753329160739 , 1.0482003290032436 )\n"
          ]
        }
      ]
    },
    {
      "cell_type": "code",
      "source": [
        "Mx"
      ],
      "metadata": {
        "colab": {
          "base_uri": "https://localhost:8080/"
        },
        "id": "pk352L3ZvghJ",
        "outputId": "f5118d2a-8f24-4c6d-d820-361eb9d82744"
      },
      "execution_count": null,
      "outputs": [
        {
          "output_type": "execute_result",
          "data": {
            "text/plain": [
              "21.960571428571413"
            ]
          },
          "metadata": {},
          "execution_count": 65
        }
      ]
    },
    {
      "cell_type": "markdown",
      "source": [
        "7) Сформулируем нулевую гипотезу $H_0$ и проверим ее, пользуясь критерием Пирсона при уровне значимости 0.05"
      ],
      "metadata": {
        "id": "vNnfCD2lvVLa"
      }
    },
    {
      "cell_type": "markdown",
      "source": [
        "Нулевая гипотеза: предполагаем, что $H_0$ = {нагрузка на разрыв в одном из 10 случаев будет 10,4, а в остальных 11,7}"
      ],
      "metadata": {
        "id": "qI-FIrjzvdAC"
      }
    },
    {
      "cell_type": "code",
      "source": [
        "'''x_H0 = M\n",
        "\n",
        "chi_square_result = stats.chisquare(f_obs=data, f_exp=x_H0)\n",
        "print(chi_square_result)'''"
      ],
      "metadata": {
        "colab": {
          "base_uri": "https://localhost:8080/",
          "height": 35
        },
        "id": "fN8nSotM2uBL",
        "outputId": "7d0585ac-d09e-4d37-c4f7-d9a6d70c7e18"
      },
      "execution_count": null,
      "outputs": [
        {
          "output_type": "execute_result",
          "data": {
            "text/plain": [
              "'x_H0 = M\\n\\nchi_square_result = stats.chisquare(f_obs=data, f_exp=x_H0)\\nprint(chi_square_result)'"
            ],
            "application/vnd.google.colaboratory.intrinsic+json": {
              "type": "string"
            }
          },
          "metadata": {},
          "execution_count": 66
        }
      ]
    },
    {
      "cell_type": "code",
      "source": [
        "x_H0 = []\n",
        "for i in range(len(data)-10):\n",
        "    x_H0.append(11.7)\n",
        "for i in range(10):\n",
        "    x_H0.append(10.4)"
      ],
      "metadata": {
        "id": "f0MX6MJJxOeJ"
      },
      "execution_count": null,
      "outputs": []
    },
    {
      "cell_type": "code",
      "source": [
        "# @title\n",
        "stats.chisquare(f_obs=data, f_exp=x_H0)"
      ],
      "metadata": {
        "colab": {
          "base_uri": "https://localhost:8080/",
          "height": 338
        },
        "id": "B0UHUYbL7OV2",
        "outputId": "fb3b2aac-2760-4644-d4ba-113a19b11afb"
      },
      "execution_count": null,
      "outputs": [
        {
          "output_type": "error",
          "ename": "ValueError",
          "evalue": "ignored",
          "traceback": [
            "\u001b[0;31m---------------------------------------------------------------------------\u001b[0m",
            "\u001b[0;31mValueError\u001b[0m                                Traceback (most recent call last)",
            "\u001b[0;32m<ipython-input-68-cefb6f38016b>\u001b[0m in \u001b[0;36m<cell line: 1>\u001b[0;34m()\u001b[0m\n\u001b[0;32m----> 1\u001b[0;31m \u001b[0mstats\u001b[0m\u001b[0;34m.\u001b[0m\u001b[0mchisquare\u001b[0m\u001b[0;34m(\u001b[0m\u001b[0mf_obs\u001b[0m\u001b[0;34m=\u001b[0m\u001b[0mdata\u001b[0m\u001b[0;34m,\u001b[0m \u001b[0mf_exp\u001b[0m\u001b[0;34m=\u001b[0m\u001b[0mx_H0\u001b[0m\u001b[0;34m)\u001b[0m\u001b[0;34m\u001b[0m\u001b[0;34m\u001b[0m\u001b[0m\n\u001b[0m",
            "\u001b[0;32m/usr/local/lib/python3.10/dist-packages/scipy/stats/_stats_py.py\u001b[0m in \u001b[0;36mchisquare\u001b[0;34m(f_obs, f_exp, ddof, axis)\u001b[0m\n\u001b[1;32m   8252\u001b[0m \u001b[0;34m\u001b[0m\u001b[0m\n\u001b[1;32m   8253\u001b[0m     \"\"\"  # noqa\n\u001b[0;32m-> 8254\u001b[0;31m     return power_divergence(f_obs, f_exp=f_exp, ddof=ddof, axis=axis,\n\u001b[0m\u001b[1;32m   8255\u001b[0m                             lambda_=\"pearson\")\n\u001b[1;32m   8256\u001b[0m \u001b[0;34m\u001b[0m\u001b[0m\n",
            "\u001b[0;32m/usr/local/lib/python3.10/dist-packages/scipy/stats/_stats_py.py\u001b[0m in \u001b[0;36mpower_divergence\u001b[0;34m(f_obs, f_exp, ddof, axis, lambda_)\u001b[0m\n\u001b[1;32m   8049\u001b[0m                    \u001b[0;34mf\"of {rtol}, but the percent differences are:\\n\"\u001b[0m\u001b[0;34m\u001b[0m\u001b[0;34m\u001b[0m\u001b[0m\n\u001b[1;32m   8050\u001b[0m                    f\"{relative_diff}\")\n\u001b[0;32m-> 8051\u001b[0;31m             \u001b[0;32mraise\u001b[0m \u001b[0mValueError\u001b[0m\u001b[0;34m(\u001b[0m\u001b[0mmsg\u001b[0m\u001b[0;34m)\u001b[0m\u001b[0;34m\u001b[0m\u001b[0;34m\u001b[0m\u001b[0m\n\u001b[0m\u001b[1;32m   8052\u001b[0m \u001b[0;34m\u001b[0m\u001b[0m\n\u001b[1;32m   8053\u001b[0m     \u001b[0;32melse\u001b[0m\u001b[0;34m:\u001b[0m\u001b[0;34m\u001b[0m\u001b[0;34m\u001b[0m\u001b[0m\n",
            "\u001b[0;31mValueError\u001b[0m: For each axis slice, the sum of the observed frequencies must agree with the sum of the expected frequencies to a relative tolerance of 1e-08, but the percent differences are:\n0.891987692307692"
          ]
        }
      ]
    },
    {
      "cell_type": "markdown",
      "source": [
        "Значение p почти 1, что больше уровня значимости 0.05, значит, отвергаем нулевую гипотезу"
      ],
      "metadata": {
        "id": "ssNVjN6p_oz7"
      }
    }
  ]
}